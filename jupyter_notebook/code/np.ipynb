{
 "cells": [
  {
   "cell_type": "code",
   "execution_count": 1,
   "metadata": {},
   "outputs": [
    {
     "name": "stdout",
     "output_type": "stream",
     "text": [
      "dotted two (1000,1000) matrices in 47.1 ms\n",
      "dotted two (4000) vectors in 10.50 us\n",
      "SVD of (2000,1000) matrix in 2.441 s\n",
      "Eigendecomp of (1500,1500) matrix in 11.839 s\n"
     ]
    }
   ],
   "source": [
    "import numpy as np\n",
    "import numpy.random as npr\n",
    "import time\n",
    "\n",
    "# --- Test 1\n",
    "N = 1\n",
    "n = 1000\n",
    "\n",
    "A = npr.randn(n,n)\n",
    "B = npr.randn(n,n)\n",
    "\n",
    "t = time.time()\n",
    "for i in range(N):\n",
    "    C = np.dot(A, B)\n",
    "td = time.time() - t\n",
    "print(\"dotted two (%d,%d) matrices in %0.1f ms\" % (n, n, 1e3*td/N))\n",
    "\n",
    "# --- Test 2\n",
    "N = 100\n",
    "n = 4000\n",
    "\n",
    "A = npr.randn(n)\n",
    "B = npr.randn(n)\n",
    "\n",
    "t = time.time()\n",
    "for i in range(N):\n",
    "    C = np.dot(A, B)\n",
    "td = time.time() - t\n",
    "print(\"dotted two (%d) vectors in %0.2f us\" % (n, 1e6*td/N))\n",
    "\n",
    "# --- Test 3\n",
    "m,n = (2000,1000)\n",
    "\n",
    "A = npr.randn(m,n)\n",
    "\n",
    "t = time.time()\n",
    "[U,s,V] = np.linalg.svd(A, full_matrices=False)\n",
    "td = time.time() - t\n",
    "print(\"SVD of (%d,%d) matrix in %0.3f s\" % (m, n, td))\n",
    "\n",
    "# --- Test 4\n",
    "n = 1500\n",
    "A = npr.randn(n,n)\n",
    "\n",
    "t = time.time()\n",
    "w, v = np.linalg.eig(A)\n",
    "td = time.time() - t\n",
    "print(\"Eigendecomp of (%d,%d) matrix in %0.3f s\" % (n, n, td))"
   ]
  },
  {
   "cell_type": "code",
   "execution_count": null,
   "metadata": {},
   "outputs": [],
   "source": []
  }
 ],
 "metadata": {
  "kernelspec": {
   "display_name": "Python 3",
   "language": "python",
   "name": "python3"
  },
  "language_info": {
   "codemirror_mode": {
    "name": "ipython",
    "version": 3
   },
   "file_extension": ".py",
   "mimetype": "text/x-python",
   "name": "python",
   "nbconvert_exporter": "python",
   "pygments_lexer": "ipython3",
   "version": "3.7.6"
  }
 },
 "nbformat": 4,
 "nbformat_minor": 2
}
